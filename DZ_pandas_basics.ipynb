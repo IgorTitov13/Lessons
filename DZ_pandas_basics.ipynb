{
 "cells": [
  {
   "cell_type": "code",
   "execution_count": 41,
   "metadata": {},
   "outputs": [
    {
     "data": {
      "text/plain": [
       "Shawshank Redemption, The (1994)             153\n",
       "Pulp Fiction (1994)                          123\n",
       "Forrest Gump (1994)                          116\n",
       "Matrix, The (1999)                           109\n",
       "Star Wars: Episode IV - A New Hope (1977)    104\n",
       "                                            ... \n",
       "Clerks II (2006)                               1\n",
       "National Lampoon's Bag Boy (2007)              1\n",
       "Analyze This (1999)                            1\n",
       "Daylight (1996)                                1\n",
       "Shallow Hal (2001)                             1\n",
       "Name: title, Length: 2954, dtype: int64"
      ]
     },
     "execution_count": 41,
     "metadata": {},
     "output_type": "execute_result"
    }
   ],
   "source": [
    "# Задание 1\n",
    "import pandas as pd\n",
    "\n",
    "df_ratings = pd.read_csv('/Users/igortitov/Lessons/ml-latest-small/ratings.csv')\n",
    "df_movies = pd.read_csv('/Users/igortitov/Lessons/ml-latest-small/movies.csv')\n",
    "dfm = df_ratings.merge(df_movies, left_on='movieId',right_on='movieId',how='left')\n",
    "dfm_filtered = dfm.filter(items = ['title', 'rating'])\n",
    "dfm_filtered = dfm_filtered[dfm_filtered['rating'] == 5.0]\n",
    "dfm_filtered['title'].value_counts()"
   ]
  },
  {
   "cell_type": "code",
   "execution_count": 29,
   "metadata": {},
   "outputs": [
    {
     "name": "stdout",
     "output_type": "stream",
     "text": [
      "240580.0\n"
     ]
    }
   ],
   "source": [
    "# Задание 2\n",
    "import pandas as pd\n",
    "\n",
    "df = pd.read_csv('/Users/igortitov/Lessons/ml-latest-small/power.csv')\n",
    "\n",
    "df_country = df[(df['country'] == 'Latvia') | (df['country'] == 'Lithuania') | (df['country'] == 'Estonia')]\n",
    "df_categories = df_country[(df_country['category'] == 4) | (df_country['category'] == 12) | (df_country['category'] == 21) ]\n",
    "df_years = df_categories[(df_categories['year'] == 2005) | (df_categories['year'] == 2006) | (df_categories['year'] == 2007) | (df_categories['year'] == 2008) | (df_categories['year'] == 2009) | (df_categories['year'] == 2010)] \n",
    "df_final = df_years[df_years['quantity'] >= 0]\n",
    "Total = df_final['quantity'].sum()\n",
    "print(Total)\n"
   ]
  },
  {
   "cell_type": "code",
   "execution_count": 42,
   "metadata": {},
   "outputs": [
    {
     "name": "stdout",
     "output_type": "stream",
     "text": [
      "                                   Название       Цена     Изменение  \\\n",
      "0                                   S&P 500    3317.00        -80.50   \n",
      "1   Фьючерс РТС Курс фьючерса на индекс РТС  118130.00      +116 868   \n",
      "2                       Индекс Dow 30 (DJI)   28075.00        +144.7   \n",
      "3                      РТС Курс индекса РТС  128140.00  +1 840.00000   \n",
      "4                                     DAX30   13015.20        +243.4   \n",
      "5                                      FTSE    7137.70      +1 135.8   \n",
      "6                                    CAC 40    4977.00         +66.8   \n",
      "7                                Nasdaq 100   11638.50        +83.30   \n",
      "8                              Russell 2000    1557.70          +5.2   \n",
      "9                                   IBEX 35    7070.40        +108.9   \n",
      "10                               Nikkei 225   23030.00          +105   \n",
      "11                            Euro Stoxx 50    3316.20         +54.3   \n",
      "12                              S&P/ASX 200    6127.90         +50.5   \n",
      "13                               Index MOEX  303325.00     +2 850.00   \n",
      "14                                     MSCI     364.38         +0.69   \n",
      "\n",
      "   Изменение(%)  Обновлено  \n",
      "0         -2.37        NaN  \n",
      "1        +9 260        NaN  \n",
      "2          +0.5        NaN  \n",
      "3      +1.45685        NaN  \n",
      "4          +1.9        NaN  \n",
      "5         +18.9        NaN  \n",
      "6          +1.4        NaN  \n",
      "7         +0.72        NaN  \n",
      "8          +0.3        NaN  \n",
      "9          +1.6        NaN  \n",
      "10           +0        NaN  \n",
      "11         +1.7        NaN  \n",
      "12         +0.8        NaN  \n",
      "13        +0.95        NaN  \n",
      "14        +0.19        NaN  \n"
     ]
    }
   ],
   "source": [
    "# Задание 3\n",
    "page_url = 'https://fortrader.org/quotes'\n",
    "# pd.read_html('https://fortrader.org/quotes')[5]\n",
    "df = pd.read_html(page_url, encoding='utf-8')\n",
    "print(df)"
   ]
  },
  {
   "cell_type": "code",
   "execution_count": null,
   "metadata": {},
   "outputs": [],
   "source": []
  }
 ],
 "metadata": {
  "kernelspec": {
   "display_name": "Python 3",
   "language": "python",
   "name": "python3"
  },
  "language_info": {
   "codemirror_mode": {
    "name": "ipython",
    "version": 3
   },
   "file_extension": ".py",
   "mimetype": "text/x-python",
   "name": "python",
   "nbconvert_exporter": "python",
   "pygments_lexer": "ipython3",
   "version": "3.7.6"
  }
 },
 "nbformat": 4,
 "nbformat_minor": 4
}
