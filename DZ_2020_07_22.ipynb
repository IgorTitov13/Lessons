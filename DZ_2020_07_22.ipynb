{
 "cells": [
  {
   "cell_type": "markdown",
   "metadata": {},
   "source": [
    "Задание 1\n"
   ]
  },
  {
   "cell_type": "code",
   "execution_count": 3,
   "metadata": {},
   "outputs": [
    {
     "name": "stdout",
     "output_type": "stream",
     "text": [
      "es\n"
     ]
    }
   ],
   "source": [
    "word = 'test'\n",
    "\n",
    "if len(word) % 2 != 0:\n",
    "    print(word[3])\n",
    "else:\n",
    "    print(word[1:3])"
   ]
  },
  {
   "cell_type": "markdown",
   "metadata": {},
   "source": [
    "Задание 2"
   ]
  },
  {
   "cell_type": "code",
   "execution_count": 1,
   "metadata": {},
   "outputs": [
    {
     "name": "stdout",
     "output_type": "stream",
     "text": [
      "Введите число9\n",
      "Введите число-1\n",
      "Введите число0\n",
      "8\n"
     ]
    }
   ],
   "source": [
    "res = []\n",
    "\n",
    "while True:\n",
    "    num = int(input('Введите число'))\n",
    "    if num > 0 or num < 0:\n",
    "        res.append(num)\n",
    "    elif num == 0:\n",
    "        print(sum(res))\n",
    "        break"
   ]
  },
  {
   "cell_type": "markdown",
   "metadata": {},
   "source": [
    "Задание 3"
   ]
  },
  {
   "cell_type": "code",
   "execution_count": 5,
   "metadata": {},
   "outputs": [
    {
     "name": "stdout",
     "output_type": "stream",
     "text": [
      "Идельные пары:\n",
      "Peter и Kate\n",
      "Alex и Liza\n",
      "John и Kira\n",
      "Arthur и Emma\n",
      "Richard и Trisha\n"
     ]
    }
   ],
   "source": [
    "boys = ['Peter', 'Alex', 'John', 'Arthur', 'Richard']\n",
    "girls = ['Kate', 'Liza', 'Kira', 'Emma', 'Trisha']\n",
    "\n",
    "boys.sort()\n",
    "girls.sort()\n",
    "\n",
    "if len(boys) == len(girls):\n",
    "    for boy, girl in zip(boys,girls):\n",
    "        print('Идеальные пары:')\n",
    "        print(boy, ' и ', girl)\n",
    "else:\n",
    "    print('Внимание, кто-то может остаться без пары!')"
   ]
  },
  {
   "cell_type": "markdown",
   "metadata": {},
   "source": [
    "Задание 4 (решение 1 - тупое)"
   ]
  },
  {
   "cell_type": "code",
   "execution_count": 1,
   "metadata": {},
   "outputs": [],
   "source": [
    "countries_temperature = [\n",
    "['Thailand', [75.2, 77, 78.8, 73.4, 68, 75.2, 77]],\n",
    "['Germany', [57.2, 55.4, 59, 59, 53.6]],\n",
    "['Russia', [35.6, 37.4, 39.2, 41, 42.8, 39.2, 35.6]],\n",
    "['Poland', [50, 50, 53.6, 57.2, 55.4, 55.4]]\n",
    "]"
   ]
  },
  {
   "cell_type": "code",
   "execution_count": 9,
   "metadata": {},
   "outputs": [
    {
     "name": "stdout",
     "output_type": "stream",
     "text": [
      "Средняя температура в странах:\n",
      "Thailand  -  23.9  C\n",
      "Germany  -  13.8  C\n",
      "Russia  -  3.7  C\n",
      "Poland  -  12.0  C\n"
     ]
    }
   ],
   "source": [
    "Thailand = countries_temperature[0]\n",
    "Thailand_temp_f = Thailand[1]\n",
    "Thailand_temp_cels = ((sum(Thailand_temp_f)/len(Thailand_temp_f)) - 32) * 5/9\n",
    "\n",
    "Germany = countries_temperature[1]\n",
    "Germany_temp_f = Germany[1]\n",
    "Germany_temp_cels = ((sum(Germany_temp_f)/len(Germany_temp_f)) - 32) * 5/9\n",
    "\n",
    "Russia = countries_temperature[2]\n",
    "Russia_temp_f = Russia[1]\n",
    "Russia_temp_cels = ((sum(Russia_temp_f)/len(Russia_temp_f)) - 32) * 5/9\n",
    "\n",
    "Poland = countries_temperature[3]\n",
    "Poland_temp_f = Poland[1]\n",
    "Poland_temp_cels = ((sum(Poland_temp_f)/len(Poland_temp_f)) - 32) * 5/9\n",
    "\n",
    "print('Средняя температура в странах:')\n",
    "print(Thailand[0], ' - ', round(Thailand_temp_cels,1), ' C')\n",
    "print(Germany[0], ' - ', round(Germany_temp_cels,1), ' C')\n",
    "print(Russia[0], ' - ', round(Russia_temp_cels,1), ' C')\n",
    "print(Poland[0], ' - ', round(Poland_temp_cels,1), ' C')\n"
   ]
  },
  {
   "cell_type": "markdown",
   "metadata": {},
   "source": [
    "Задание 4. Решение 2 подсказали очень умные "
   ]
  },
  {
   "cell_type": "code",
   "execution_count": 11,
   "metadata": {},
   "outputs": [
    {
     "name": "stdout",
     "output_type": "stream",
     "text": [
      "Thailand - 23.9  C\n",
      "Germany - 13.8  C\n",
      "Russia - 3.7  C\n",
      "Poland - 12.0  C\n"
     ]
    }
   ],
   "source": [
    "for i in range(len(countries_temperature)):\n",
    "    print(countries_temperature[i][0], '-', \n",
    "          round((sum(countries_temperature[i][1]) / len(countries_temperature[i][1]) - 32) * 5/9,1), ' C')"
   ]
  },
  {
   "cell_type": "markdown",
   "metadata": {},
   "source": [
    "задание 4. подсказали просто умные "
   ]
  },
  {
   "cell_type": "code",
   "execution_count": 7,
   "metadata": {},
   "outputs": [
    {
     "name": "stdout",
     "output_type": "stream",
     "text": [
      "Thailand - 23.8 C\n",
      "Germany - 13.8 C\n",
      "Russia - 3.7 C\n",
      "Poland - 12.0 C\n"
     ]
    }
   ],
   "source": [
    "list_of_countries = []\n",
    "average_temp_F = []\n",
    "average_temp_C = []\n",
    "\n",
    "for country in countries_temperature:\n",
    "    \n",
    "    list_of_countries.append(country[0])\n",
    "    ft = round((sum(country[1])) / (len(country[1])),1)\n",
    "    fc = round((ft - 32) * 5/9,1)\n",
    "\n",
    "    average_temp_F.append(ft)\n",
    "    average_temp_C.append(fc)\n",
    "    count = 0 \n",
    "    \n",
    "for country in list_of_countries:\n",
    "    print(country + str(' - '+(str(average_temp_C[count])+' C')))\n",
    "    count += 1"
   ]
  },
  {
   "cell_type": "markdown",
   "metadata": {},
   "source": [
    "ФИНАЛЬНЫЙ САМЫЙ ПРОСТОЙ "
   ]
  },
  {
   "cell_type": "code",
   "execution_count": 3,
   "metadata": {},
   "outputs": [
    {
     "name": "stdout",
     "output_type": "stream",
     "text": [
      "Thailand 23.9\n",
      "Germany 13.8\n",
      "Russia 3.7\n",
      "Poland 12.0\n"
     ]
    }
   ],
   "source": [
    "for country in countries_temperature:\n",
    "    country_name = country[0]\n",
    "    country_temp_list = country[1]\n",
    "    country_avg_temp_frng = sum(country_temp_list) /  len(country_temp_list)\n",
    "    country_avg_temp_cls = round(\n",
    "        (country_avg_temp_frng - 32) * 5 / 9,1\n",
    "        )\n",
    "    print(country_name, country_avg_temp_cls)"
   ]
  },
  {
   "cell_type": "code",
   "execution_count": null,
   "metadata": {},
   "outputs": [],
   "source": []
  }
 ],
 "metadata": {
  "kernelspec": {
   "display_name": "Python 3",
   "language": "python",
   "name": "python3"
  },
  "language_info": {
   "codemirror_mode": {
    "name": "ipython",
    "version": 3
   },
   "file_extension": ".py",
   "mimetype": "text/x-python",
   "name": "python",
   "nbconvert_exporter": "python",
   "pygments_lexer": "ipython3",
   "version": "3.7.6"
  }
 },
 "nbformat": 4,
 "nbformat_minor": 4
}
